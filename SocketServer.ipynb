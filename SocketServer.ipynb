{
 "cells": [
  {
   "cell_type": "code",
   "execution_count": 1,
   "metadata": {},
   "outputs": [
    {
     "name": "stderr",
     "output_type": "stream",
     "text": [
      "Using TensorFlow backend.\n"
     ]
    }
   ],
   "source": [
    "import socket\n",
    "import numpy as np\n",
    "from sklearn.linear_model import LinearRegression\n",
    "import ast\n",
    "import build"
   ]
  },
  {
   "cell_type": "code",
   "execution_count": 2,
   "metadata": {},
   "outputs": [],
   "source": [
    "def train_test_model(msg = ''):\n",
    "    msg = msg.replace('true','True')\n",
    "    msg = ast.literal_eval(msg)\n",
    "    \n",
    "    print(type(msg))\n",
    "    \n",
    "    if(type(msg) == dict):\n",
    "        input_data = msg\n",
    "    else:\n",
    "        return \"BAD JSON!!\"\n",
    "    \n",
    "    data = input_data['Data']\n",
    "    date = input_data['Time']\n",
    "    file_name = input_data['FileName']\n",
    "    \n",
    "    testSize = int(input_data['TestingPart'] / 100 * len(data))\n",
    "    trainSize = len(data) - testSize\n",
    "    \n",
    "    train = build.train(training_set=data[:trainSize], date=date[:trainSize], lr=input_data['LearningRate'], scale=input_data['Scale'], epochs=input_data['Epochs'], momentum=input_data['Momentum'], optimizer=input_data['Optimizer'], file_name=file_name, architecture=input_data['Architecture'])\n",
    "    test = build.test(testing_set=data[trainSize:], date=date[trainSize:], file_name=input_data['FileName'])\n",
    "\n",
    "    print(train)\n",
    "    print(test)\n",
    "    \n",
    "    evaluate = build.evaluate(file_name=file_name, testing_weight=input_data['TestingWeight'])\n",
    "\n",
    "    print(evaluate)\n",
    "    \n",
    "    return str(evaluate)"
   ]
  },
  {
   "cell_type": "code",
   "execution_count": 3,
   "metadata": {},
   "outputs": [],
   "source": [
    "def calcregr(msg = ''):\n",
    "    chartdata = np.fromstring(msg, dtype=float, sep= ' ') \n",
    "    Y = np.array(chartdata).reshape(-1,1)\n",
    "    X = np.array(np.arange(len(chartdata))).reshape(-1,1)\n",
    "        \n",
    "    lr = LinearRegression()\n",
    "    lr.fit(X, Y)\n",
    "    Y_pred = lr.predict(X)\n",
    "    type(Y_pred)\n",
    "    P = Y_pred.astype(str).item(-1) + ' ' + Y_pred.astype(str).item(0)\n",
    "    print(P)\n",
    "    return str(P)"
   ]
  },
  {
   "cell_type": "code",
   "execution_count": 4,
   "metadata": {},
   "outputs": [],
   "source": [
    "class socketserver:\n",
    "    def __init__(self, address = '', port = 9090):\n",
    "        self.sock = socket.socket(socket.AF_INET, socket.SOCK_STREAM)\n",
    "        self.address = address\n",
    "        self.port = port\n",
    "        self.sock.bind((self.address, self.port))\n",
    "        self.cummdata = ''\n",
    "        \n",
    "    def recvmsg(self):\n",
    "        self.sock.listen(1)\n",
    "        self.conn, self.addr = self.sock.accept()\n",
    "        print('connected to', self.addr)\n",
    "        self.cummdata = ''\n",
    "\n",
    "        while True:\n",
    "            data = self.conn.recv(10000000)\n",
    "            self.cummdata+=data.decode(\"utf-8\")\n",
    "            if not data:\n",
    "                break    \n",
    "            self.conn.send(bytes(train_test_model(self.cummdata), \"utf-8\"))\n",
    "            return self.cummdata\n",
    "            \n",
    "    def __del__(self):\n",
    "        self.sock.close()"
   ]
  },
  {
   "cell_type": "code",
   "execution_count": null,
   "metadata": {
    "scrolled": true
   },
   "outputs": [
    {
     "name": "stdout",
     "output_type": "stream",
     "text": [
      "connected to ('127.0.0.1', 65300)\n",
      "<class 'dict'>\n",
      "Epoch 1/30\n",
      "19740/19740 [==============================] - 27s 1ms/step - loss: 0.0086 - mean_squared_error: 0.0086 - r2_score: 0.8881\n",
      "Epoch 2/30\n",
      "19740/19740 [==============================] - 22s 1ms/step - loss: 0.0036 - mean_squared_error: 0.0036 - r2_score: 0.9546\n",
      "Epoch 3/30\n",
      "19740/19740 [==============================] - 22s 1ms/step - loss: 0.0027 - mean_squared_error: 0.0027 - r2_score: 0.9657\n",
      "Epoch 4/30\n",
      "19740/19740 [==============================] - 22s 1ms/step - loss: 0.0023 - mean_squared_error: 0.0023 - r2_score: 0.9712\n",
      "Epoch 5/30\n",
      "19740/19740 [==============================] - 22s 1ms/step - loss: 0.0019 - mean_squared_error: 0.0019 - r2_score: 0.9754\n",
      "Epoch 6/30\n",
      "19740/19740 [==============================] - 23s 1ms/step - loss: 0.0017 - mean_squared_error: 0.0017 - r2_score: 0.9783\n",
      "Epoch 7/30\n",
      "19740/19740 [==============================] - 22s 1ms/step - loss: 0.0015 - mean_squared_error: 0.0015 - r2_score: 0.9811\n",
      "Epoch 8/30\n",
      "19740/19740 [==============================] - 22s 1ms/step - loss: 0.0014 - mean_squared_error: 0.0014 - r2_score: 0.9828\n",
      "Epoch 9/30\n",
      "19740/19740 [==============================] - 23s 1ms/step - loss: 0.0013 - mean_squared_error: 0.0013 - r2_score: 0.9834\n",
      "Epoch 10/30\n",
      "19740/19740 [==============================] - 23s 1ms/step - loss: 0.0012 - mean_squared_error: 0.0012 - r2_score: 0.9851\n",
      "Epoch 11/30\n",
      "19740/19740 [==============================] - 22s 1ms/step - loss: 0.0011 - mean_squared_error: 0.0011 - r2_score: 0.9860\n",
      "Epoch 12/30\n",
      "19740/19740 [==============================] - 22s 1ms/step - loss: 0.0011 - mean_squared_error: 0.0011 - r2_score: 0.9868\n",
      "Epoch 13/30\n",
      "19740/19740 [==============================] - 22s 1ms/step - loss: 9.8855e-04 - mean_squared_error: 9.8855e-04 - r2_score: 0.9875\n",
      "Epoch 14/30\n",
      "19740/19740 [==============================] - 21s 1ms/step - loss: 9.7238e-04 - mean_squared_error: 9.7238e-04 - r2_score: 0.9879: 3s - loss: 9.8017e-04 - me\n",
      "Epoch 15/30\n",
      "19740/19740 [==============================] - 21s 1ms/step - loss: 9.3240e-04 - mean_squared_error: 9.3240e-04 - r2_score: 0.9883\n",
      "Epoch 16/30\n",
      "19740/19740 [==============================] - 21s 1ms/step - loss: 9.0933e-04 - mean_squared_error: 9.0933e-04 - r2_score: 0.9886\n",
      "Epoch 17/30\n",
      "19740/19740 [==============================] - 21s 1ms/step - loss: 8.9605e-04 - mean_squared_error: 8.9605e-04 - r2_score: 0.9888\n",
      "Epoch 18/30\n",
      "19740/19740 [==============================] - 21s 1ms/step - loss: 8.6354e-04 - mean_squared_error: 8.6354e-04 - r2_score: 0.9891\n",
      "Epoch 19/30\n",
      "19740/19740 [==============================] - 22s 1ms/step - loss: 8.3043e-04 - mean_squared_error: 8.3043e-04 - r2_score: 0.9896\n",
      "Epoch 20/30\n",
      " 2848/19740 [===>..........................] - ETA: 19s - loss: 8.4415e-04 - mean_squared_error: 8.4415e-04 - r2_score: 0.9896"
     ]
    }
   ],
   "source": [
    "serv = socketserver('127.0.0.1', 9090)\n",
    "\n",
    "while True:  \n",
    "    msg = serv.recvmsg()"
   ]
  }
 ],
 "metadata": {
  "kernelspec": {
   "display_name": "Python 3",
   "language": "python",
   "name": "python3"
  },
  "language_info": {
   "codemirror_mode": {
    "name": "ipython",
    "version": 3
   },
   "file_extension": ".py",
   "mimetype": "text/x-python",
   "name": "python",
   "nbconvert_exporter": "python",
   "pygments_lexer": "ipython3",
   "version": "3.6.8"
  }
 },
 "nbformat": 4,
 "nbformat_minor": 2
}
